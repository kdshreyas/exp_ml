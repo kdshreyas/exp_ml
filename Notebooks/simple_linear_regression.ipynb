{
  "nbformat": 4,
  "nbformat_minor": 0,
  "metadata": {
    "colab": {
      "provenance": [],
      "authorship_tag": "ABX9TyOD/9K/yI/1pL9iDUSfA4PB",
      "include_colab_link": true
    },
    "kernelspec": {
      "name": "python3",
      "display_name": "Python 3"
    },
    "language_info": {
      "name": "python"
    }
  },
  "cells": [
    {
      "cell_type": "markdown",
      "metadata": {
        "id": "view-in-github",
        "colab_type": "text"
      },
      "source": [
        "<a href=\"https://colab.research.google.com/github/kdshreyas/exp_ml/blob/master/Notebooks/simple_linear_regression.ipynb\" target=\"_parent\"><img src=\"https://colab.research.google.com/assets/colab-badge.svg\" alt=\"Open In Colab\"/></a>"
      ]
    },
    {
      "cell_type": "code",
      "execution_count": 5,
      "metadata": {
        "colab": {
          "base_uri": "https://localhost:8080/"
        },
        "id": "AWjMxH4QSAqD",
        "outputId": "97498a1c-db0e-4847-c78a-da52f1b0b385"
      },
      "outputs": [
        {
          "output_type": "stream",
          "name": "stdout",
          "text": [
            "Cloning into 'exp_ml'...\n",
            "remote: Enumerating objects: 326, done.\u001b[K\n",
            "remote: Counting objects:   0% (1/326)\u001b[K\rremote: Counting objects:   1% (4/326)\u001b[K\rremote: Counting objects:   2% (7/326)\u001b[K\rremote: Counting objects:   3% (10/326)\u001b[K\rremote: Counting objects:   4% (14/326)\u001b[K\rremote: Counting objects:   5% (17/326)\u001b[K\rremote: Counting objects:   6% (20/326)\u001b[K\rremote: Counting objects:   7% (23/326)\u001b[K\rremote: Counting objects:   8% (27/326)\u001b[K\rremote: Counting objects:   9% (30/326)\u001b[K\rremote: Counting objects:  10% (33/326)\u001b[K\rremote: Counting objects:  11% (36/326)\u001b[K\rremote: Counting objects:  12% (40/326)\u001b[K\rremote: Counting objects:  13% (43/326)\u001b[K\rremote: Counting objects:  14% (46/326)\u001b[K\rremote: Counting objects:  15% (49/326)\u001b[K\rremote: Counting objects:  16% (53/326)\u001b[K\rremote: Counting objects:  17% (56/326)\u001b[K\rremote: Counting objects:  18% (59/326)\u001b[K\rremote: Counting objects:  19% (62/326)\u001b[K\rremote: Counting objects:  20% (66/326)\u001b[K\rremote: Counting objects:  21% (69/326)\u001b[K\rremote: Counting objects:  22% (72/326)\u001b[K\rremote: Counting objects:  23% (75/326)\u001b[K\rremote: Counting objects:  24% (79/326)\u001b[K\rremote: Counting objects:  25% (82/326)\u001b[K\rremote: Counting objects:  26% (85/326)\u001b[K\rremote: Counting objects:  27% (89/326)\u001b[K\rremote: Counting objects:  28% (92/326)\u001b[K\rremote: Counting objects:  29% (95/326)\u001b[K\rremote: Counting objects:  30% (98/326)\u001b[K\rremote: Counting objects:  31% (102/326)\u001b[K\rremote: Counting objects:  32% (105/326)\u001b[K\rremote: Counting objects:  33% (108/326)\u001b[K\rremote: Counting objects:  34% (111/326)\u001b[K\rremote: Counting objects:  35% (115/326)\u001b[K\rremote: Counting objects:  36% (118/326)\u001b[K\rremote: Counting objects:  37% (121/326)\u001b[K\rremote: Counting objects:  38% (124/326)\u001b[K\rremote: Counting objects:  39% (128/326)\u001b[K\rremote: Counting objects:  40% (131/326)\u001b[K\rremote: Counting objects:  41% (134/326)\u001b[K\rremote: Counting objects:  42% (137/326)\u001b[K\rremote: Counting objects:  43% (141/326)\u001b[K\rremote: Counting objects:  44% (144/326)\u001b[K\rremote: Counting objects:  45% (147/326)\u001b[K\rremote: Counting objects:  46% (150/326)\u001b[K\rremote: Counting objects:  47% (154/326)\u001b[K\rremote: Counting objects:  48% (157/326)\u001b[K\rremote: Counting objects:  49% (160/326)\u001b[K\rremote: Counting objects:  50% (163/326)\u001b[K\rremote: Counting objects:  51% (167/326)\u001b[K\rremote: Counting objects:  52% (170/326)\u001b[K\rremote: Counting objects:  53% (173/326)\u001b[K\rremote: Counting objects:  54% (177/326)\u001b[K\rremote: Counting objects:  55% (180/326)\u001b[K\rremote: Counting objects:  56% (183/326)\u001b[K\rremote: Counting objects:  57% (186/326)\u001b[K\rremote: Counting objects:  58% (190/326)\u001b[K\rremote: Counting objects:  59% (193/326)\u001b[K\rremote: Counting objects:  60% (196/326)\u001b[K\rremote: Counting objects:  61% (199/326)\u001b[K\rremote: Counting objects:  62% (203/326)\u001b[K\rremote: Counting objects:  63% (206/326)\u001b[K\rremote: Counting objects:  64% (209/326)\u001b[K\rremote: Counting objects:  65% (212/326)\u001b[K\rremote: Counting objects:  66% (216/326)\u001b[K\rremote: Counting objects:  67% (219/326)\u001b[K\rremote: Counting objects:  68% (222/326)\u001b[K\rremote: Counting objects:  69% (225/326)\u001b[K\rremote: Counting objects:  70% (229/326)\u001b[K\rremote: Counting objects:  71% (232/326)\u001b[K\rremote: Counting objects:  72% (235/326)\u001b[K\rremote: Counting objects:  73% (238/326)\u001b[K\rremote: Counting objects:  74% (242/326)\u001b[K\rremote: Counting objects:  75% (245/326)\u001b[K\rremote: Counting objects:  76% (248/326)\u001b[K\rremote: Counting objects:  77% (252/326)\u001b[K\rremote: Counting objects:  78% (255/326)\u001b[K\rremote: Counting objects:  79% (258/326)\u001b[K\rremote: Counting objects:  80% (261/326)\u001b[K\rremote: Counting objects:  81% (265/326)\u001b[K\rremote: Counting objects:  82% (268/326)\u001b[K\rremote: Counting objects:  83% (271/326)\u001b[K\rremote: Counting objects:  84% (274/326)\u001b[K\rremote: Counting objects:  85% (278/326)\u001b[K\rremote: Counting objects:  86% (281/326)\u001b[K\rremote: Counting objects:  87% (284/326)\u001b[K\rremote: Counting objects:  88% (287/326)\u001b[K\rremote: Counting objects:  89% (291/326)\u001b[K\rremote: Counting objects:  90% (294/326)\u001b[K\rremote: Counting objects:  91% (297/326)\u001b[K\rremote: Counting objects:  92% (300/326)\u001b[K\rremote: Counting objects:  93% (304/326)\u001b[K\rremote: Counting objects:  94% (307/326)\u001b[K\rremote: Counting objects:  95% (310/326)\u001b[K\rremote: Counting objects:  96% (313/326)\u001b[K\rremote: Counting objects:  97% (317/326)\u001b[K\rremote: Counting objects:  98% (320/326)\u001b[K\rremote: Counting objects:  99% (323/326)\u001b[K\rremote: Counting objects: 100% (326/326)\u001b[K\rremote: Counting objects: 100% (326/326), done.\u001b[K\n",
            "remote: Compressing objects: 100% (235/235), done.\u001b[K\n",
            "remote: Total 326 (delta 92), reused 313 (delta 89), pack-reused 0\u001b[K\n",
            "Receiving objects: 100% (326/326), 5.15 MiB | 19.89 MiB/s, done.\n",
            "Resolving deltas: 100% (92/92), done.\n"
          ]
        }
      ],
      "source": [
        "!git clone https://github.com/kdshreyas/exp_ml.git"
      ]
    },
    {
      "cell_type": "code",
      "source": [
        "import os\n",
        "path = '/content/exp_ml/Resources/Part 2 - Regression/Section 4 - Simple Linear Regression/Python'\n",
        "os.chdir(path)\n",
        "os.listdir(path)"
      ],
      "metadata": {
        "colab": {
          "base_uri": "https://localhost:8080/"
        },
        "id": "gk-xwUcsVEky",
        "outputId": "7a4da9db-0b1a-4c73-9a22-aa85b99f5c56"
      },
      "execution_count": 34,
      "outputs": [
        {
          "output_type": "execute_result",
          "data": {
            "text/plain": [
              "['simple_linear_regression.ipynb',\n",
              " 'Salary_Data.csv',\n",
              " '.ipynb_checkpoints',\n",
              " 'simple_linear_regression.py']"
            ]
          },
          "metadata": {},
          "execution_count": 34
        }
      ]
    },
    {
      "cell_type": "code",
      "source": [
        "import numpy as np\n",
        "import pandas as pd\n",
        "import matplotlib.pyplot as plt"
      ],
      "metadata": {
        "id": "BLe5s_gbYKXV"
      },
      "execution_count": 20,
      "outputs": []
    },
    {
      "cell_type": "code",
      "source": [
        "df = pd.read_csv('Salary_Data.csv')"
      ],
      "metadata": {
        "id": "wWi0HdzpYVKt"
      },
      "execution_count": 36,
      "outputs": []
    },
    {
      "cell_type": "code",
      "source": [
        "df.head()"
      ],
      "metadata": {
        "colab": {
          "base_uri": "https://localhost:8080/",
          "height": 206
        },
        "id": "ufKq3oBzZEnG",
        "outputId": "1f22ec3d-ad4b-4211-801b-0794337f82b2"
      },
      "execution_count": 37,
      "outputs": [
        {
          "output_type": "execute_result",
          "data": {
            "text/plain": [
              "   YearsExperience   Salary\n",
              "0              1.1  39343.0\n",
              "1              1.3  46205.0\n",
              "2              1.5  37731.0\n",
              "3              2.0  43525.0\n",
              "4              2.2  39891.0"
            ],
            "text/html": [
              "\n",
              "  <div id=\"df-c30c342d-1419-4ec1-9243-26c5ac4e6dbf\">\n",
              "    <div class=\"colab-df-container\">\n",
              "      <div>\n",
              "<style scoped>\n",
              "    .dataframe tbody tr th:only-of-type {\n",
              "        vertical-align: middle;\n",
              "    }\n",
              "\n",
              "    .dataframe tbody tr th {\n",
              "        vertical-align: top;\n",
              "    }\n",
              "\n",
              "    .dataframe thead th {\n",
              "        text-align: right;\n",
              "    }\n",
              "</style>\n",
              "<table border=\"1\" class=\"dataframe\">\n",
              "  <thead>\n",
              "    <tr style=\"text-align: right;\">\n",
              "      <th></th>\n",
              "      <th>YearsExperience</th>\n",
              "      <th>Salary</th>\n",
              "    </tr>\n",
              "  </thead>\n",
              "  <tbody>\n",
              "    <tr>\n",
              "      <th>0</th>\n",
              "      <td>1.1</td>\n",
              "      <td>39343.0</td>\n",
              "    </tr>\n",
              "    <tr>\n",
              "      <th>1</th>\n",
              "      <td>1.3</td>\n",
              "      <td>46205.0</td>\n",
              "    </tr>\n",
              "    <tr>\n",
              "      <th>2</th>\n",
              "      <td>1.5</td>\n",
              "      <td>37731.0</td>\n",
              "    </tr>\n",
              "    <tr>\n",
              "      <th>3</th>\n",
              "      <td>2.0</td>\n",
              "      <td>43525.0</td>\n",
              "    </tr>\n",
              "    <tr>\n",
              "      <th>4</th>\n",
              "      <td>2.2</td>\n",
              "      <td>39891.0</td>\n",
              "    </tr>\n",
              "  </tbody>\n",
              "</table>\n",
              "</div>\n",
              "      <button class=\"colab-df-convert\" onclick=\"convertToInteractive('df-c30c342d-1419-4ec1-9243-26c5ac4e6dbf')\"\n",
              "              title=\"Convert this dataframe to an interactive table.\"\n",
              "              style=\"display:none;\">\n",
              "        \n",
              "  <svg xmlns=\"http://www.w3.org/2000/svg\" height=\"24px\"viewBox=\"0 0 24 24\"\n",
              "       width=\"24px\">\n",
              "    <path d=\"M0 0h24v24H0V0z\" fill=\"none\"/>\n",
              "    <path d=\"M18.56 5.44l.94 2.06.94-2.06 2.06-.94-2.06-.94-.94-2.06-.94 2.06-2.06.94zm-11 1L8.5 8.5l.94-2.06 2.06-.94-2.06-.94L8.5 2.5l-.94 2.06-2.06.94zm10 10l.94 2.06.94-2.06 2.06-.94-2.06-.94-.94-2.06-.94 2.06-2.06.94z\"/><path d=\"M17.41 7.96l-1.37-1.37c-.4-.4-.92-.59-1.43-.59-.52 0-1.04.2-1.43.59L10.3 9.45l-7.72 7.72c-.78.78-.78 2.05 0 2.83L4 21.41c.39.39.9.59 1.41.59.51 0 1.02-.2 1.41-.59l7.78-7.78 2.81-2.81c.8-.78.8-2.07 0-2.86zM5.41 20L4 18.59l7.72-7.72 1.47 1.35L5.41 20z\"/>\n",
              "  </svg>\n",
              "      </button>\n",
              "      \n",
              "  <style>\n",
              "    .colab-df-container {\n",
              "      display:flex;\n",
              "      flex-wrap:wrap;\n",
              "      gap: 12px;\n",
              "    }\n",
              "\n",
              "    .colab-df-convert {\n",
              "      background-color: #E8F0FE;\n",
              "      border: none;\n",
              "      border-radius: 50%;\n",
              "      cursor: pointer;\n",
              "      display: none;\n",
              "      fill: #1967D2;\n",
              "      height: 32px;\n",
              "      padding: 0 0 0 0;\n",
              "      width: 32px;\n",
              "    }\n",
              "\n",
              "    .colab-df-convert:hover {\n",
              "      background-color: #E2EBFA;\n",
              "      box-shadow: 0px 1px 2px rgba(60, 64, 67, 0.3), 0px 1px 3px 1px rgba(60, 64, 67, 0.15);\n",
              "      fill: #174EA6;\n",
              "    }\n",
              "\n",
              "    [theme=dark] .colab-df-convert {\n",
              "      background-color: #3B4455;\n",
              "      fill: #D2E3FC;\n",
              "    }\n",
              "\n",
              "    [theme=dark] .colab-df-convert:hover {\n",
              "      background-color: #434B5C;\n",
              "      box-shadow: 0px 1px 3px 1px rgba(0, 0, 0, 0.15);\n",
              "      filter: drop-shadow(0px 1px 2px rgba(0, 0, 0, 0.3));\n",
              "      fill: #FFFFFF;\n",
              "    }\n",
              "  </style>\n",
              "\n",
              "      <script>\n",
              "        const buttonEl =\n",
              "          document.querySelector('#df-c30c342d-1419-4ec1-9243-26c5ac4e6dbf button.colab-df-convert');\n",
              "        buttonEl.style.display =\n",
              "          google.colab.kernel.accessAllowed ? 'block' : 'none';\n",
              "\n",
              "        async function convertToInteractive(key) {\n",
              "          const element = document.querySelector('#df-c30c342d-1419-4ec1-9243-26c5ac4e6dbf');\n",
              "          const dataTable =\n",
              "            await google.colab.kernel.invokeFunction('convertToInteractive',\n",
              "                                                     [key], {});\n",
              "          if (!dataTable) return;\n",
              "\n",
              "          const docLinkHtml = 'Like what you see? Visit the ' +\n",
              "            '<a target=\"_blank\" href=https://colab.research.google.com/notebooks/data_table.ipynb>data table notebook</a>'\n",
              "            + ' to learn more about interactive tables.';\n",
              "          element.innerHTML = '';\n",
              "          dataTable['output_type'] = 'display_data';\n",
              "          await google.colab.output.renderOutput(dataTable, element);\n",
              "          const docLink = document.createElement('div');\n",
              "          docLink.innerHTML = docLinkHtml;\n",
              "          element.appendChild(docLink);\n",
              "        }\n",
              "      </script>\n",
              "    </div>\n",
              "  </div>\n",
              "  "
            ]
          },
          "metadata": {},
          "execution_count": 37
        }
      ]
    },
    {
      "cell_type": "code",
      "source": [
        "X = df.iloc[:, :-1].values\n",
        "y = df.iloc[:, -1].values"
      ],
      "metadata": {
        "id": "ZEh6NmIJZK2w"
      },
      "execution_count": 39,
      "outputs": []
    },
    {
      "cell_type": "code",
      "source": [
        "from sklearn.model_selection import train_test_split"
      ],
      "metadata": {
        "id": "osLQHMVwZ0WS"
      },
      "execution_count": 55,
      "outputs": []
    },
    {
      "cell_type": "code",
      "source": [
        "X_train, X_test, y_train, y_test = train_test_split(X, y)"
      ],
      "metadata": {
        "id": "AmzwRe21Z7Ka"
      },
      "execution_count": 56,
      "outputs": []
    },
    {
      "cell_type": "code",
      "source": [
        "from sklearn.linear_model import LinearRegression"
      ],
      "metadata": {
        "id": "A8ssZOWmaKrB"
      },
      "execution_count": 57,
      "outputs": []
    },
    {
      "cell_type": "code",
      "source": [
        "model = LinearRegression()"
      ],
      "metadata": {
        "id": "eZrbcxn6aTGz"
      },
      "execution_count": 58,
      "outputs": []
    },
    {
      "cell_type": "code",
      "source": [
        "model.fit(X_train, y_train)"
      ],
      "metadata": {
        "colab": {
          "base_uri": "https://localhost:8080/"
        },
        "id": "RJL-tp7pacgQ",
        "outputId": "c2489bcd-f26c-48df-b1b3-4785b0824414"
      },
      "execution_count": 59,
      "outputs": [
        {
          "output_type": "execute_result",
          "data": {
            "text/plain": [
              "LinearRegression()"
            ]
          },
          "metadata": {},
          "execution_count": 59
        }
      ]
    },
    {
      "cell_type": "code",
      "source": [
        "model.predict(X_test)"
      ],
      "metadata": {
        "colab": {
          "base_uri": "https://localhost:8080/"
        },
        "id": "y5gAulXGakL9",
        "outputId": "86c0e878-4b5a-4510-86c5-fefaada31a16"
      },
      "execution_count": 61,
      "outputs": [
        {
          "output_type": "execute_result",
          "data": {
            "text/plain": [
              "array([ 37347.74479042, 112709.03408058, 127389.80472152, 109772.87995239,\n",
              "        62794.41390138,  68666.72215776, 101943.13561056,  63773.13194411])"
            ]
          },
          "metadata": {},
          "execution_count": 61
        }
      ]
    },
    {
      "cell_type": "code",
      "source": [
        "model.score(X_test, y_test)"
      ],
      "metadata": {
        "colab": {
          "base_uri": "https://localhost:8080/"
        },
        "id": "ot5ru51Jasca",
        "outputId": "c1a7b093-3a77-417e-bd56-4a1a5bd40cb6"
      },
      "execution_count": 62,
      "outputs": [
        {
          "output_type": "execute_result",
          "data": {
            "text/plain": [
              "0.9556893376820336"
            ]
          },
          "metadata": {},
          "execution_count": 62
        }
      ]
    }
  ]
}